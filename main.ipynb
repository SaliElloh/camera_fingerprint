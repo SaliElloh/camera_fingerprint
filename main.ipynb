{
 "cells": [
  {
   "cell_type": "code",
   "execution_count": null,
   "id": "0719e2ee",
   "metadata": {},
   "outputs": [
    {
     "ename": "",
     "evalue": "",
     "output_type": "error",
     "traceback": [
      "\u001b[1;31mRunning cells with 'Python 3.11.11' requires the ipykernel package.\n",
      "\u001b[1;31m<a href='command:jupyter.createPythonEnvAndSelectController'>Create a Python Environment</a> with the required packages."
     ]
    }
   ],
   "source": [
    "import cv2\n",
    "import os\n",
    "import numpy as np\n",
    "from multiprocessing import Pool, cpu_count\n",
    "from sklearn.model_selection import train_test_split\n",
    "import bm3d\n",
    "from skimage import io, img_as_float\n",
    "import matplotlib.pyplot as plt\n",
    "\n",
    "# for denoising:\n",
    "from skimage.restoration import denoise_wavelet, estimate_sigma\n",
    "from skimage import data, img_as_float\n",
    "from skimage.util import random_noise\n",
    "from skimage.metrics import peak_signal_noise_ratio\n",
    "\n"
   ]
  },
  {
   "cell_type": "markdown",
   "id": "4167ebe6",
   "metadata": {},
   "source": [
    "work onn VISION dataset:\n",
    "work on DO1 camera only\n",
    "\n",
    "CALCULATING THE PRNU FOR A SPECIFIC CAMERA:\n",
    "1. get all flat images in one folder - Sali\n",
    "2. convert flat images to grayscale - Sali\n",
    "3. denoising (using wavelet) - Aditya \n",
    "4. calculate noise residual (original - denoise image) for each image in the flat images - Aditya\n",
    "5. calculate: equation in image \"eq1' - Sali\n",
    "6. calculate CRLB  in image 'eq2' - Sali\n",
    "\n",
    "7. calculate linear pattern in image 'eq3', this is K which is the PRNU - write the equation in code format - Kavan\n",
    "8. calculate conversion from RGB to grayscale in image 'eq4' or explore other conversion methods - Kavan\n",
    "\n",
    "CALCULATING THE SIMILARITY BETWEEN A CAMERA'S FINGERPRINT AND A NEW TEST IMAGE:\n",
    "work with natural images for camera DO1\n",
    "9. calculate the noise residual (original image - denoised image)  (W2) noise residual for test image - Sri\n",
    "\n",
    "#########################################\n",
    "\n",
    "10. calculate X and Y in equations in img 'eq5'\n",
    "11. Calculate the NCC in img 'eq6'\n",
    "12. calculate the PCE in img 'eq7'\n",
    "\n"
   ]
  },
  {
   "cell_type": "code",
   "execution_count": 2,
   "id": "fc104c56",
   "metadata": {},
   "outputs": [
    {
     "data": {
      "text/plain": [
       "['/data/Sali/camera_fingerprint/Dresden_Exp/Agfa_DC-504_0']"
      ]
     },
     "execution_count": 2,
     "metadata": {},
     "output_type": "execute_result"
    }
   ],
   "source": [
    "data_dir = '/data/Sali/camera_fingerprint/Dresden_Exp'\n",
    "camera_ls = os.listdir(data_dir)\n",
    "camera_ls = camera_ls[:1]\n",
    "\n",
    "# Create list of all camera directories\n",
    "camera_dirs = [data_dir + '/' + camera for camera in camera_ls ]\n",
    "camera_dirs\n"
   ]
  },
  {
   "cell_type": "markdown",
   "id": "6401eb2b",
   "metadata": {},
   "source": [
    "### Moving images to folder"
   ]
  },
  {
   "cell_type": "code",
   "execution_count": null,
   "id": "e2269b51",
   "metadata": {},
   "outputs": [],
   "source": [
    "images_output_dir = '/data/Sali/camera_fingerprint/Vision_dataset_organized'"
   ]
  },
  {
   "cell_type": "code",
   "execution_count": 10,
   "id": "5060db1f",
   "metadata": {},
   "outputs": [],
   "source": [
    "import shutil"
   ]
  },
  {
   "cell_type": "code",
   "execution_count": 3,
   "id": "c2c4775e",
   "metadata": {},
   "outputs": [],
   "source": [
    "# def move_images_to_folder(camera_dir, output_dir):\n",
    "#     list_of_cameras = [f'D{str(i).zfill(2)}' for i in range(1, 37)]\n",
    "#     subdirs = ['flat', 'nat', 'natFBH', 'natFBL', 'natWA']\n",
    "\n",
    "#     for cam in list_of_cameras:\n",
    "        \n",
    "#         cam_dir = os.path.join(output_dir, cam)\n",
    "#         os.makedirs(cam_dir, exist_ok=True)  \n",
    "#         subdirs = ['flat', 'nat', 'natFBH', 'natFBL', 'natWA']\n",
    "\n",
    "#         for sub in subdirs:\n",
    "#             sub_dir = os.path.join(cam_dir, sub)\n",
    "#             os.makedirs(sub_dir, exist_ok=True)\n",
    "\n",
    "#     for image in os.listdir(camera_dir):\n",
    "#         if image.endswith('.jpg') or image.endswith('.png'):\n",
    "#             image_parts = image.split('_')\n",
    "\n",
    "#             camera_id = image_parts[0]\n",
    "#             subdir = image_parts[2]\n",
    "#             current_img_path = os.path.join(camera_dir, image)\n",
    "#             new_img_path = os.path.join(output_dir, camera_id, subdir, image)\n",
    "\n",
    "#             try:\n",
    "#                 shutil.copy(current_img_path, new_img_path)\n",
    "#             except FileNotFoundError:\n",
    "#                 print(f\"Error: {current_img_path} not found.\")\n",
    "#             except Exception as e:\n",
    "#                 print(f\"Error copying {image}: {e}\")\n",
    "    \n",
    "# move_images_to_folder('/data/Sali/camera_fingerprint/', images_output_dir)"
   ]
  },
  {
   "cell_type": "code",
   "execution_count": null,
   "id": "c4886dd4",
   "metadata": {},
   "outputs": [],
   "source": [
    "# equation 1\n",
    "\n",
    "def estimate_prnu(W_list, I_list):\n",
    "    \"\"\"\n",
    "    Compute MLE of PRNU (Equation 6)\n",
    "    W_list: list of noise residuals (numpy arrays)\n",
    "    I_list: list of corresponding intensity images (numpy arrays)\n",
    "    Returns: PRNU fingerprint estimate (same shape as input images)\n",
    "    \"\"\"\n",
    "    numerator = np.zeros_like(W_list[0])\n",
    "    denominator = np.zeros_like(I_list[0])\n",
    "\n",
    "    for Wk, Ik in zip(W_list, I_list):\n",
    "        numerator += Wk * Ik\n",
    "        denominator += Ik * Ik\n",
    "\n",
    "    K_hat = numerator / denominator\n",
    "    return K_hat\n",
    "\n",
    "\n"
   ]
  },
  {
   "cell_type": "code",
   "execution_count": null,
   "id": "483372b8",
   "metadata": {},
   "outputs": [],
   "source": [
    "# equation 2\n",
    "\n",
    "def prnu_crlb(I_list, sigma2):\n",
    "    \"\"\"\n",
    "    Compute Cramér-Rao Lower Bound (Equation 7)\n",
    "    I_list: list of intensity images (numpy arrays)\n",
    "    sigma2: noise variance (scalar or array)\n",
    "    Returns: lower bound on variance of PRNU estimate\n",
    "    \"\"\"\n",
    "    denominator = np.zeros_like(I_list[0])\n",
    "\n",
    "    for Ik in I_list:\n",
    "        denominator += Ik * Ik\n",
    "\n",
    "    var_bound = sigma2 / denominator\n",
    "    return var_bound\n"
   ]
  },
  {
   "cell_type": "markdown",
   "id": "02cd220f",
   "metadata": {},
   "source": [
    "### Extracting PRNU"
   ]
  },
  {
   "cell_type": "code",
   "execution_count": null,
   "id": "547de1f5",
   "metadata": {},
   "outputs": [
    {
     "ename": "SyntaxError",
     "evalue": "invalid syntax (4290831171.py, line 1)",
     "output_type": "error",
     "traceback": [
      "\u001b[0;36m  Cell \u001b[0;32mIn[17], line 1\u001b[0;36m\u001b[0m\n\u001b[0;31m    https://github.com/samuelebortolotti/neural-prnu-extractor #code to replicate\u001b[0m\n\u001b[0m          ^\u001b[0m\n\u001b[0;31mSyntaxError\u001b[0m\u001b[0;31m:\u001b[0m invalid syntax\n"
     ]
    }
   ],
   "source": [
    "https://github.com/samuelebortolotti/neural-prnu-extractor #code to replicate\n",
    "https://github.com/ocrim1996/prnu-python?tab=readme-ov-file\n",
    "https://ieeexplore.ieee.org/document/7791195 # image alignment \n",
    "https://ieeexplore.ieee.org/document/7791195 # paper that talks about denoising filter\n",
    "https://paperswithcode.com/sota/image-denoising-on-sidd # papers with code\n",
    "https://www.reddit.com/r/AirlinerAbduction2014/comments/1fnxy5o/photo_response_nonuniformity_prnu_authentication/#:~:text=Extracting%20the%20PRNU%20requires%20denoising,is%20compared%20to%20the%20CRP. # reddit page"
   ]
  }
 ],
 "metadata": {
  "kernelspec": {
   "display_name": "Python 3",
   "language": "python",
   "name": "python3"
  },
  "language_info": {
   "codemirror_mode": {
    "name": "ipython",
    "version": 3
   },
   "file_extension": ".py",
   "mimetype": "text/x-python",
   "name": "python",
   "nbconvert_exporter": "python",
   "pygments_lexer": "ipython3",
   "version": "3.11.11"
  }
 },
 "nbformat": 4,
 "nbformat_minor": 5
}
